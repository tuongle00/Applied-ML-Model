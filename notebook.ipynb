{
 "cells": [
  {
   "cell_type": "markdown",
   "id": "spare-collaboration",
   "metadata": {},
   "source": [
    "# Internet News and Consumer Engagement\n",
    "This dataset contains data on news articles published between early September to early November 2019. It's enriched by Facebook engagement data, such as the number of shares, comments, and reactions. The dataset was first created to predict the popularity of an article before it was published; however, there is a lot more you can analyze!\n",
    "\n",
    "Not sure where to begin? Scroll to the bottom to find challenges!"
   ]
  },
  {
   "cell_type": "code",
   "execution_count": null,
   "id": "eight-usage",
   "metadata": {},
   "outputs": [
    {
     "name": "stdout",
     "output_type": "stream",
     "text": [
      "            source_id         source_name              author  \\\n",
      "0             reuters             Reuters   Reuters Editorial   \n",
      "1     the-irish-times     The Irish Times  Eoin Burke-Kennedy   \n",
      "2     the-irish-times     The Irish Times   Deirdre McQuillan   \n",
      "3  al-jazeera-english  Al Jazeera English          Al Jazeera   \n",
      "4            bbc-news            BBC News            BBC News   \n",
      "\n",
      "                                               title  \\\n",
      "0  NTSB says Autopilot engaged in 2018 California...   \n",
      "1       Unemployment falls to post-crash low of 5.2%   \n",
      "2  Louise Kennedy AW2019: Long coats, sparkling t...   \n",
      "3  North Korean footballer Han joins Italian gian...   \n",
      "4  UK government lawyer says proroguing parliamen...   \n",
      "\n",
      "                                         description  \\\n",
      "0  The National Transportation Safety Board said ...   \n",
      "1  Latest monthly figures reflect continued growt...   \n",
      "2  Autumn-winter collection features designer’s g...   \n",
      "3  Han is the first North Korean player in the Se...   \n",
      "4  The UK government's lawyer, David Johnston arg...   \n",
      "\n",
      "                                                 url  \\\n",
      "0  https://www.reuters.com/article/us-tesla-crash...   \n",
      "1  https://www.irishtimes.com/business/economy/un...   \n",
      "2  https://www.irishtimes.com/\\t\\t\\t\\t\\t\\t\\t/life...   \n",
      "3  https://www.aljazeera.com/news/2019/09/north-k...   \n",
      "4  https://www.bbc.co.uk/news/av/uk-scotland-4956...   \n",
      "\n",
      "                                        url_to_image          published_at  \\\n",
      "0  https://s4.reutersmedia.net/resources/r/?m=02&...  2019-09-03T16:22:20Z   \n",
      "1  https://www.irishtimes.com/image-creator/?id=1...  2019-09-03T10:32:28Z   \n",
      "2  https://www.irishtimes.com/image-creator/?id=1...  2019-09-03T14:40:00Z   \n",
      "3  https://www.aljazeera.com/mritems/Images/2019/...  2019-09-03T17:25:39Z   \n",
      "4  https://ichef.bbci.co.uk/news/1024/branded_new...  2019-09-03T14:39:21Z   \n",
      "\n",
      "                                             content  top_article  \\\n",
      "0  WASHINGTON (Reuters) - The National Transporta...          0.0   \n",
      "1  The States jobless rate fell to 5.2 per cent l...          0.0   \n",
      "2  Louise Kennedy is showing off her autumn-winte...          1.0   \n",
      "3  Han Kwang Song, the first North Korean footbal...          0.0   \n",
      "4                                                NaN          0.0   \n",
      "\n",
      "   engagement_reaction_count  engagement_comment_count  \\\n",
      "0                        0.0                       0.0   \n",
      "1                        6.0                      10.0   \n",
      "2                        NaN                       NaN   \n",
      "3                        0.0                       0.0   \n",
      "4                        0.0                       0.0   \n",
      "\n",
      "   engagement_share_count  engagement_comment_plugin_count  \n",
      "0                  2528.0                              0.0  \n",
      "1                     2.0                              0.0  \n",
      "2                     NaN                              NaN  \n",
      "3                     7.0                              0.0  \n",
      "4                     0.0                              0.0  \n"
     ]
    }
   ],
   "source": [
    "import pandas as pd\n",
    "\n",
    "df =pd.read_csv(\"news_articles.csv\", index_col=0)\n",
    "\n",
    "print(df.head())"
   ]
  },
  {
   "cell_type": "markdown",
   "id": "dd3bb332",
   "metadata": {},
   "source": [
    "## Data dictionary\n",
    "\n",
    "|    | Variable                        | Description                                                                  |\n",
    "|---:|:--------------------------------|:-----------------------------------------------------------------------------|\n",
    "|  0 | source_id                       | publisher unique identifier                                                  |\n",
    "|  1 | source_name                     | human-readable publisher name                                                |\n",
    "|  2 | author                          | article author                                                               |\n",
    "|  3 | title                           | article headline                                                             |\n",
    "|  4 | description                     | article short description                                                    |\n",
    "|  5 | url                             | article URL from publisher website                                           |\n",
    "|  6 | url_to_image                    | url to main image associated with the article                                |\n",
    "|  7 | published_at                    | exact time and date of publishing the article                                |\n",
    "|  8 | content                         | unformatted content of the article truncated to 260 characters               |\n",
    "|  9 | top_article                     | value indicating if article was listed as a top article on publisher website |\n",
    "| 10 | engagement_reaction_count       | users reactions count for posts on Facebook involving article URL            |\n",
    "| 11 | engagement_comment_count        | users comments count for posts on Facebook involving article URL             |\n",
    "| 12 | engagement_share_count          | users shares count for posts on Facebook involving article URL               |\n",
    "| 13 | engagement_comment_plugin_count | Users comments count for Facebook comment plugin on article website          |\n",
    "\n",
    "[Source](https://www.kaggle.com/szymonjanowski/internet-articles-data-with-users-engagement) of dataset."
   ]
  },
  {
   "cell_type": "markdown",
   "id": "4e7fde13",
   "metadata": {},
   "source": [
    "## Don't know where to start? \n",
    "\n",
    "**Challenges are brief tasks designed to help you practice specific skills:**\n",
    "\n",
    "- 🗺️ **Explore**: What publishers and authors publish the most content based on this dataset? How about most engaging content?\n",
    "- 📊 **Visualize**: Create two words clouds for the title and description of the articles to find the most popular words. Make sure to remove stop words!\n",
    "- 🔎 **Analyze**: On days where total engagement was higher than usual, can you identify a common event or theme based on text?\n",
    "\n",
    "**Scenarios are broader questions to help you develop an end-to-end project for your portfolio:**\n",
    "\n",
    "You have a friend who works as a reporter for BBC news. He's been disappointed in his articles' low Facebook engagement and that his articles have never been listed as top articles on the BBC. You've offered your help by finding data-driven recommendations on how he should position his articles (such as guidelines on title and description) and when in the day he should publish articles. He's interested in what makes a top article at BBC and what gets the most Facebook engagement.\n",
    "\n",
    "You will need to prepare a report that is accessible to a broad audience. It will need to outline your motivation, analysis steps, findings, and conclusions.\n",
    "\n",
    "---\n",
    "\n",
    "✍️ _If you have an idea for an interesting Scenario or Challenge, or have feedback on our existing ones, let us know! You can submit feedback by pressing the question mark in the top right corner of the screen and selecting \"Give Feedback\". Include the phrase \"Content Feedback\" to help us flag it in our system._"
   ]
  },
  {
   "cell_type": "code",
   "execution_count": null,
   "id": "199db7a9-f4ae-4d47-bb68-365865e14dfc",
   "metadata": {},
   "outputs": [
    {
     "name": "stdout",
     "output_type": "stream",
     "text": [
      "The Associated Press : 975\n"
     ]
    }
   ],
   "source": [
    "\n",
    "highest_content_author = df.groupby('author').count()['content'].idxmax()\n",
    "highest_content = df.groupby('author').count()['content'].max()\n",
    "\n",
    "print(highest_content_author,\":\",highest_content)"
   ]
  },
  {
   "cell_type": "code",
   "execution_count": null,
   "id": "83218b67-79d6-4fb2-b0d4-eadf9209993b",
   "metadata": {},
   "outputs": [
    {
     "data": {
      "text/plain": [
       "Index(['source_id', 'source_name', 'author', 'title', 'description', 'url',\n",
       "       'url_to_image', 'published_at', 'content', 'top_article',\n",
       "       'engagement_reaction_count', 'engagement_comment_count',\n",
       "       'engagement_share_count', 'engagement_comment_plugin_count'],\n",
       "      dtype='object')"
      ]
     },
     "execution_count": 18,
     "metadata": {},
     "output_type": "execute_result"
    }
   ],
   "source": [
    "df.columns"
   ]
  },
  {
   "cell_type": "code",
   "execution_count": null,
   "id": "794e6107-921c-4c8c-a3ce-c2c0f239fcc8",
   "metadata": {},
   "outputs": [
    {
     "name": "stdout",
     "output_type": "stream",
     "text": [
      "0     2528.0\n",
      "1       18.0\n",
      "2        0.0\n",
      "3        7.0\n",
      "4        0.0\n",
      "5        0.0\n",
      "6      817.0\n",
      "7        0.0\n",
      "8       22.0\n",
      "9      135.0\n",
      "10      38.0\n",
      "11      49.0\n",
      "12      85.0\n",
      "13     716.0\n",
      "14       0.0\n",
      "15       4.0\n",
      "16      50.0\n",
      "17       1.0\n",
      "18       1.0\n",
      "19       4.0\n",
      "20      24.0\n",
      "21      18.0\n",
      "22       6.0\n",
      "23       3.0\n",
      "24       0.0\n",
      "25      10.0\n",
      "26     140.0\n",
      "27       8.0\n",
      "28     517.0\n",
      "29      10.0\n",
      "30    2608.0\n",
      "31       0.0\n",
      "32       0.0\n",
      "33       0.0\n",
      "34       5.0\n",
      "35       0.0\n",
      "36       4.0\n",
      "37     272.0\n",
      "38    1824.0\n",
      "39       4.0\n",
      "40    5144.0\n",
      "41      10.0\n",
      "42       0.0\n",
      "43       0.0\n",
      "44    1045.0\n",
      "45       0.0\n",
      "46       0.0\n",
      "47     166.0\n",
      "48     780.0\n",
      "49       1.0\n",
      "Name: total engagement, dtype: float64\n"
     ]
    }
   ],
   "source": [
    "columns_list = ['engagement_reaction_count', 'engagement_comment_count',\n",
    "       'engagement_share_count', 'engagement_comment_plugin_count']\n",
    "\n",
    "\n",
    "df['total engagement'] = df[columns_list].sum(axis=1)\n",
    "\n",
    "print(df['total engagement'].head(50))"
   ]
  },
  {
   "cell_type": "code",
   "execution_count": null,
   "id": "07e5d3f1-ba05-471d-a8af-4c01166d795f",
   "metadata": {},
   "outputs": [
    {
     "name": "stdout",
     "output_type": "stream",
     "text": [
      "                              author  total engagement\n",
      "8500  Elizabeth Wolfe And Brian Ries          434855.0\n"
     ]
    }
   ],
   "source": [
    "\n",
    "highest_engagement_author = df.loc[df['total engagement'] == df['total engagement'].max()][['author','total engagement']]\n",
    "print(highest_engagement_author)"
   ]
  },
  {
   "cell_type": "code",
   "execution_count": null,
   "id": "a7396cf7-b976-413a-986a-90aee2ccb3d2",
   "metadata": {},
   "outputs": [],
   "source": [
    "from collections import Counter\n",
    "words_count_title = \" \".join(map(str,df[\"title\"])).split()"
   ]
  },
  {
   "cell_type": "code",
   "execution_count": null,
   "id": "444e66c7-5662-4312-bfdb-3f5553dc1c67",
   "metadata": {},
   "outputs": [
    {
     "name": "stderr",
     "output_type": "stream",
     "text": [
      "[nltk_data] Downloading package stopwords to /home/repl/nltk_data...\n",
      "[nltk_data]   Package stopwords is already up-to-date!\n"
     ]
    }
   ],
   "source": [
    "import nltk\n",
    "nltk.download('stopwords')\n",
    "from nltk.corpus import stopwords\n",
    "A_title = [word for word in words_count_title if word not in stopwords.words('english')]"
   ]
  },
  {
   "cell_type": "code",
   "execution_count": null,
   "id": "4be3b34a-186d-47c1-8523-8d4eaa80d319",
   "metadata": {},
   "outputs": [
    {
     "name": "stdout",
     "output_type": "stream",
     "text": [
      "[('The', 643), ('Trump', 477), ('says', 461), ('-', 347), ('US', 319), ('new', 311), ('U.S.', 309), ('New', 277), ('A', 265), ('Brexit', 215), ('How', 203), ('Dorian', 178), ('Is', 171), ('Hurricane', 166), ('—', 164), ('World', 159), ('could', 142), ('Saudi', 133), ('Johnson', 131), (\"Trump's\", 131), ('China', 130), ('Hong', 130), ('Man', 122), ('Ireland', 122), ('What', 122), ('first', 121), ('UK', 120), ('2020', 116), ('With', 116), ('Wall', 116)]\n"
     ]
    }
   ],
   "source": [
    "words_counting_title = Counter(A_title).most_common()\n",
    "\n",
    "print(words_counting_title[0:30])"
   ]
  },
  {
   "cell_type": "code",
   "execution_count": null,
   "id": "f4890c80-f969-45c1-88b2-271cb2490c8a",
   "metadata": {},
   "outputs": [
    {
     "name": "stdout",
     "output_type": "stream",
     "text": [
      "[('The', 2331), ('said', 826), ('A', 790), ('new', 703), ('President', 611), ('says', 592), ('news', 575), ('top', 568), ('U.S.', 556), ('Trump', 524), ('national', 515), ('world', 514), ('video', 479), ('online', 466), ('breaking', 427), ('Get', 421), ('broadcast', 418), ('exclusive', 418), ('news.', 418), ('ABC', 416), ('news,', 412), ('Find', 412), ('coverage,', 408), ('interviews.', 408), ('one', 389), ('two', 388), ('first', 379), ('New', 372), ('people', 365), ('could', 315)]\n"
     ]
    }
   ],
   "source": [
    "words_count_description = \" \".join(map(str,df[\"description\"])).split()\n",
    "A_description = [word for word in words_count_description if word not in stopwords.words('english')]\n",
    "words_counting_description = Counter(A_description).most_common()\n",
    "\n",
    "print(words_counting_description[0:30])"
   ]
  }
 ],
 "metadata": {
  "colab": {
   "name": "Welcome to DataCamp Workspaces.ipynb",
   "provenance": []
  },
  "editor": "DataCamp Workspace",
  "kernelspec": {
   "display_name": "Python 3 (ipykernel)",
   "language": "python",
   "name": "python3"
  },
  "language_info": {
   "codemirror_mode": {
    "name": "ipython",
    "version": 3
   },
   "file_extension": ".py",
   "mimetype": "text/x-python",
   "name": "python",
   "nbconvert_exporter": "python",
   "pygments_lexer": "ipython3",
   "version": "3.8.10"
  },
  "varInspector": {
   "cols": {
    "lenName": 16,
    "lenType": 16,
    "lenVar": 40
   },
   "kernels_config": {
    "python": {
     "delete_cmd_postfix": "",
     "delete_cmd_prefix": "del ",
     "library": "var_list.py",
     "varRefreshCmd": "print(var_dic_list())"
    },
    "r": {
     "delete_cmd_postfix": ") ",
     "delete_cmd_prefix": "rm(",
     "library": "var_list.r",
     "varRefreshCmd": "cat(var_dic_list()) "
    }
   },
   "types_to_exclude": [
    "module",
    "function",
    "builtin_function_or_method",
    "instance",
    "_Feature"
   ],
   "window_display": false
  }
 },
 "nbformat": 4,
 "nbformat_minor": 5
}
