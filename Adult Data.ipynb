{
 "cells": [
  {
   "cell_type": "code",
   "execution_count": 13,
   "id": "0741acc7",
   "metadata": {},
   "outputs": [
    {
     "name": "stdout",
     "output_type": "stream",
     "text": [
      "       age         workclass  fnlwgt   education  education-num  \\\n",
      "0       39         State-gov   77516   Bachelors             13   \n",
      "1       50  Self-emp-not-inc   83311   Bachelors             13   \n",
      "2       38           Private  215646     HS-grad              9   \n",
      "3       53           Private  234721        11th              7   \n",
      "4       28           Private  338409   Bachelors             13   \n",
      "...    ...               ...     ...         ...            ...   \n",
      "32556   27           Private  257302  Assoc-acdm             12   \n",
      "32557   40           Private  154374     HS-grad              9   \n",
      "32558   58           Private  151910     HS-grad              9   \n",
      "32559   22           Private  201490     HS-grad              9   \n",
      "32560   52      Self-emp-inc  287927     HS-grad              9   \n",
      "\n",
      "           marital-status         occupation   relationship   race     sex  \\\n",
      "0           Never-married       Adm-clerical  Not-in-family  White    Male   \n",
      "1      Married-civ-spouse    Exec-managerial        Husband  White    Male   \n",
      "2                Divorced  Handlers-cleaners  Not-in-family  White    Male   \n",
      "3      Married-civ-spouse  Handlers-cleaners        Husband  Black    Male   \n",
      "4      Married-civ-spouse     Prof-specialty           Wife  Black  Female   \n",
      "...                   ...                ...            ...    ...     ...   \n",
      "32556  Married-civ-spouse       Tech-support           Wife  White  Female   \n",
      "32557  Married-civ-spouse  Machine-op-inspct        Husband  White    Male   \n",
      "32558             Widowed       Adm-clerical      Unmarried  White  Female   \n",
      "32559       Never-married       Adm-clerical      Own-child  White    Male   \n",
      "32560  Married-civ-spouse    Exec-managerial           Wife  White  Female   \n",
      "\n",
      "       capital-gain  capital-loss  hours-per-week native-country salary  \n",
      "0              2174             0              40  United-States  <=50K  \n",
      "1                 0             0              13  United-States  <=50K  \n",
      "2                 0             0              40  United-States  <=50K  \n",
      "3                 0             0              40  United-States  <=50K  \n",
      "4                 0             0              40           Cuba  <=50K  \n",
      "...             ...           ...             ...            ...    ...  \n",
      "32556             0             0              38  United-States  <=50K  \n",
      "32557             0             0              40  United-States   >50K  \n",
      "32558             0             0              40  United-States  <=50K  \n",
      "32559             0             0              20  United-States  <=50K  \n",
      "32560         15024             0              40  United-States   >50K  \n",
      "\n",
      "[32561 rows x 15 columns]\n"
     ]
    }
   ],
   "source": [
    "import pandas as pd\n",
    "import numpy as np\n",
    "\n",
    "\n",
    "df = pd.read_csv('adult.data.csv')\n",
    "\n",
    "print(df)"
   ]
  },
  {
   "cell_type": "code",
   "execution_count": 14,
   "id": "91c81fdd",
   "metadata": {},
   "outputs": [
    {
     "name": "stdout",
     "output_type": "stream",
     "text": [
      "White 27816\n",
      "Black 3124\n",
      "Asian-Pac-Islander 1039\n",
      "Amer-Indian-Eskimo 311\n",
      "Other 271\n"
     ]
    }
   ],
   "source": [
    "unique_race = pd.unique(df['race'])\n",
    "\n",
    "def race_count(race):\n",
    "    by_race = df[df['race'] == race]\n",
    "    return by_race.count()['race']\n",
    "\n",
    "for race in unique_race:\n",
    "    print(race,race_count(race))"
   ]
  },
  {
   "cell_type": "code",
   "execution_count": 49,
   "id": "fa3821c0",
   "metadata": {},
   "outputs": [
    {
     "name": "stdout",
     "output_type": "stream",
     "text": [
      "Average age of men: 39.43354749885268\n"
     ]
    },
    {
     "name": "stderr",
     "output_type": "stream",
     "text": [
      "C:\\Users\\Tuong P\\AppData\\Local\\Temp\\ipykernel_1656\\3024810324.py:5: FutureWarning: Dropping of nuisance columns in DataFrame reductions (with 'numeric_only=None') is deprecated; in a future version this will raise TypeError.  Select only valid columns before calling the reduction.\n",
      "  count_age_men = sex.mean()['age']\n"
     ]
    }
   ],
   "source": [
    "#Average age of men\n",
    "unique_sex = pd.unique(df['sex'])\n",
    "\n",
    "sex = df.loc[df['sex'] == 'Male']\n",
    "count_age_men = sex.mean()['age']\n",
    "\n",
    "print(\"Average age of men:\",count_age_men)\n",
    "\n"
   ]
  },
  {
   "cell_type": "code",
   "execution_count": 57,
   "id": "fee766c0",
   "metadata": {},
   "outputs": [
    {
     "name": "stdout",
     "output_type": "stream",
     "text": [
      "Percentage of bachelor degree: 16.4\n"
     ]
    }
   ],
   "source": [
    "avg_bachelors =round(100 * df.loc[df[\"education\"] == \"Bachelors\"].size / df.size,1)\n",
    "\n",
    "print(\"Percentage of bachelor degree:\",avg_bachelors)\n",
    "\n",
    "\n",
    "    "
   ]
  },
  {
   "cell_type": "code",
   "execution_count": 54,
   "id": "c2c2bb42",
   "metadata": {},
   "outputs": [
    {
     "name": "stdout",
     "output_type": "stream",
     "text": [
      "['Bachelors' 'HS-grad' '11th' 'Masters' '9th' 'Some-college' 'Assoc-acdm'\n",
      " 'Assoc-voc' '7th-8th' 'Doctorate' 'Prof-school' '5th-6th' '10th'\n",
      " '1st-4th' 'Preschool' '12th']\n"
     ]
    }
   ],
   "source": [
    "unique_degree =pd.unique(df['education'])\n",
    "\n",
    "print(unique_degree)"
   ]
  },
  {
   "cell_type": "code",
   "execution_count": 68,
   "id": "262d0fff",
   "metadata": {},
   "outputs": [
    {
     "name": "stdout",
     "output_type": "stream",
     "text": [
      "Average higher education make >50k: 46.5\n",
      "Average lower education make >50k: 17.4\n"
     ]
    }
   ],
   "source": [
    "higher_education =df.loc[ df[\"education\"].isin([\"Bachelors\", \"Masters\", \"Doctorate\"])]\n",
    "lower_education = df.loc[~df[\"education\"].isin([\"Bachelors\", \"Masters\", \"Doctorate\"])]\n",
    "\n",
    "higher_education_rich = round(100*higher_education.loc[higher_education[\"salary\"] == \">50K\" ].size/higher_education.size,1)\n",
    "lower_education_rich = round(100*lower_education.loc[lower_education[\"salary\"] == \">50K\" ].size/lower_education.size,1)\n",
    "\n",
    "print(\"Average higher education make >50k:\",higher_education_rich)\n",
    "print(\"Average lower education make >50k:\",lower_education_rich)\n",
    "\n",
    "\n"
   ]
  },
  {
   "cell_type": "code",
   "execution_count": 81,
   "id": "77598677",
   "metadata": {},
   "outputs": [
    {
     "name": "stdout",
     "output_type": "stream",
     "text": [
      "Minimum work hours per week: 1\n"
     ]
    }
   ],
   "source": [
    "min_work_hours = df[\"hours-per-week\"].min()\n",
    "\n",
    "print(\"Minimum work hours per week:\",min_work_hours)\n"
   ]
  },
  {
   "cell_type": "code",
   "execution_count": 80,
   "id": "d29c7212",
   "metadata": {},
   "outputs": [
    {
     "name": "stdout",
     "output_type": "stream",
     "text": [
      "Percentage of minimum work hours per week that earn > 50k: 10.0\n"
     ]
    }
   ],
   "source": [
    "num_min_workers = df.loc[df[\"hours-per-week\"] == min_work_hours]\n",
    "rich_percentage = round(100* num_min_workers.loc[num_min_workers[\"salary\"] == \">50K\"].size / num_min_workers.size,1)\n",
    "\n",
    "print(\"Percentage of minimum work hours per week that earn > 50k:\",rich_percentage)"
   ]
  },
  {
   "cell_type": "code",
   "execution_count": 83,
   "id": "7ac1b19c",
   "metadata": {},
   "outputs": [],
   "source": [
    "# What country has the highest percentage of people that earn >50K?\n",
    "highest_country = df[[\"salary\", \"native-country\"]].groupby(\"native-country\").apply(lambda g: g.loc[g[\"salary\"] == \">50K\"].size / g.size * 100)\n",
    "\n",
    "highest_earning_country = highest_country.idxmax()\n",
    "highest_earning_country_percentage = round(highest_country.max(), 1)\n",
    "\n",
    "    # Identify the most popular occupation for those who earn >50K in India.\n",
    "top_IN_occupation = (df.loc[(df[\"native-country\"] == \"India\") & (df[\"salary\"] == \">50K\")][\"occupation\"].value_counts().idxmax() )"
   ]
  },
  {
   "cell_type": "code",
   "execution_count": 85,
   "id": "b73d83d9",
   "metadata": {},
   "outputs": [
    {
     "name": "stdout",
     "output_type": "stream",
     "text": [
      "Country with most people earning >50k: Iran\n",
      "Percentage of those data: 41.9\n"
     ]
    }
   ],
   "source": [
    "print(\"Country with most people earning >50k:\",highest_earning_country)\n",
    "print(\"Percentage of those data:\",highest_earning_country_percentage)"
   ]
  },
  {
   "cell_type": "code",
   "execution_count": null,
   "id": "17f205d9",
   "metadata": {},
   "outputs": [],
   "source": []
  }
 ],
 "metadata": {
  "kernelspec": {
   "display_name": "Python 3 (ipykernel)",
   "language": "python",
   "name": "python3"
  },
  "language_info": {
   "codemirror_mode": {
    "name": "ipython",
    "version": 3
   },
   "file_extension": ".py",
   "mimetype": "text/x-python",
   "name": "python",
   "nbconvert_exporter": "python",
   "pygments_lexer": "ipython3",
   "version": "3.9.12"
  }
 },
 "nbformat": 4,
 "nbformat_minor": 5
}
