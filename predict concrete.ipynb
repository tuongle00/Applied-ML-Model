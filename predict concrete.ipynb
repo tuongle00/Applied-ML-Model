{
 "cells": [
  {
   "cell_type": "markdown",
   "id": "9a9ada08-c9f0-466f-91a0-265fa539f9f5",
   "metadata": {},
   "source": [
    "# Can you predict the strength of concrete?\n",
    "\n",
    "## 📖 Background\n",
    "You work in the civil engineering department of a major university. You are part of a project testing the strength of concrete samples. \n",
    "\n",
    "Concrete is the most widely used building material in the world. It is a mix of cement and water with gravel and sand. It can also include other materials like fly ash, blast furnace slag, and additives. \n",
    "\n",
    "The compressive strength of concrete is a function of components and age, so your team is testing different combinations of ingredients at different time intervals. \n",
    "\n",
    "The project leader asked you to find a simple way to estimate strength so that students can predict how a particular sample is expected to perform."
   ]
  },
  {
   "cell_type": "markdown",
   "id": "10dcc269-3659-4851-99cd-f1ffb7f818aa",
   "metadata": {},
   "source": [
    "## 💾 The data\n",
    "The team has already tested more than a thousand samples ([source](https://archive.ics.uci.edu/ml/datasets/concrete+compressive+strength)):\n",
    "\n",
    "#### Compressive strength data:\n",
    "- \"cement\" - Portland cement in kg/m3\n",
    "- \"slag\" - Blast furnace slag in kg/m3\n",
    "- \"fly_ash\" - Fly ash in kg/m3\n",
    "- \"water\" - Water in liters/m3\n",
    "- \"superplasticizer\" - Superplasticizer additive in kg/m3\n",
    "- \"coarse_aggregate\" - Coarse aggregate (gravel) in kg/m3\n",
    "- \"fine_aggregate\" - Fine aggregate (sand) in kg/m3\n",
    "- \"age\" - Age of the sample in days\n",
    "- \"strength\" - Concrete compressive strength in megapascals (MPa)\n",
    "\n",
    "***Acknowledgments**: I-Cheng Yeh, \"Modeling of strength of high-performance concrete using artificial neural networks,\" Cement and Concrete Research, Vol. 28, No. 12, pp. 1797-1808 (1998)*."
   ]
  },
  {
   "cell_type": "code",
   "execution_count": 61,
   "id": "40251159-3eea-47f8-bfb4-09e38d5ced65",
   "metadata": {},
   "outputs": [
    {
     "data": {
      "application/com.datacamp.data-table.v1+json": {
       "is_truncated": false,
       "table": {
        "data": [
         {
          "age": 28,
          "cement": 540,
          "coarse_aggregate": 1040,
          "fine_aggregate": 676,
          "fly_ash": 0,
          "index": 0,
          "slag": 0,
          "strength": 79.98611076,
          "superplasticizer": 2.5,
          "water": 162
         },
         {
          "age": 28,
          "cement": 540,
          "coarse_aggregate": 1055,
          "fine_aggregate": 676,
          "fly_ash": 0,
          "index": 1,
          "slag": 0,
          "strength": 61.88736576,
          "superplasticizer": 2.5,
          "water": 162
         },
         {
          "age": 270,
          "cement": 332.5,
          "coarse_aggregate": 932,
          "fine_aggregate": 594,
          "fly_ash": 0,
          "index": 2,
          "slag": 142.5,
          "strength": 40.269535256,
          "superplasticizer": 0,
          "water": 228
         },
         {
          "age": 365,
          "cement": 332.5,
          "coarse_aggregate": 932,
          "fine_aggregate": 594,
          "fly_ash": 0,
          "index": 3,
          "slag": 142.5,
          "strength": 41.052779992,
          "superplasticizer": 0,
          "water": 228
         },
         {
          "age": 360,
          "cement": 198.6,
          "coarse_aggregate": 978.4,
          "fine_aggregate": 825.5,
          "fly_ash": 0,
          "index": 4,
          "slag": 132.4,
          "strength": 44.296075096,
          "superplasticizer": 0,
          "water": 192
         },
         {
          "age": 90,
          "cement": 266,
          "coarse_aggregate": 932,
          "fine_aggregate": 670,
          "fly_ash": 0,
          "index": 5,
          "slag": 114,
          "strength": 47.029847436,
          "superplasticizer": 0,
          "water": 228
         },
         {
          "age": 365,
          "cement": 380,
          "coarse_aggregate": 932,
          "fine_aggregate": 594,
          "fly_ash": 0,
          "index": 6,
          "slag": 95,
          "strength": 43.698299404,
          "superplasticizer": 0,
          "water": 228
         },
         {
          "age": 28,
          "cement": 380,
          "coarse_aggregate": 932,
          "fine_aggregate": 594,
          "fly_ash": 0,
          "index": 7,
          "slag": 95,
          "strength": 36.447769788,
          "superplasticizer": 0,
          "water": 228
         },
         {
          "age": 28,
          "cement": 266,
          "coarse_aggregate": 932,
          "fine_aggregate": 670,
          "fly_ash": 0,
          "index": 8,
          "slag": 114,
          "strength": 45.854290856,
          "superplasticizer": 0,
          "water": 228
         },
         {
          "age": 28,
          "cement": 475,
          "coarse_aggregate": 932,
          "fine_aggregate": 594,
          "fly_ash": 0,
          "index": 9,
          "slag": 0,
          "strength": 39.28978986,
          "superplasticizer": 0,
          "water": 228
         },
         {
          "age": 90,
          "cement": 198.6,
          "coarse_aggregate": 978.4,
          "fine_aggregate": 825.5,
          "fly_ash": 0,
          "index": 10,
          "slag": 132.4,
          "strength": 38.074243672,
          "superplasticizer": 0,
          "water": 192
         },
         {
          "age": 28,
          "cement": 198.6,
          "coarse_aggregate": 978.4,
          "fine_aggregate": 825.5,
          "fly_ash": 0,
          "index": 11,
          "slag": 132.4,
          "strength": 28.021683592,
          "superplasticizer": 0,
          "water": 192
         },
         {
          "age": 270,
          "cement": 427.5,
          "coarse_aggregate": 932,
          "fine_aggregate": 594,
          "fly_ash": 0,
          "index": 12,
          "slag": 47.5,
          "strength": 43.01296026,
          "superplasticizer": 0,
          "water": 228
         },
         {
          "age": 90,
          "cement": 190,
          "coarse_aggregate": 932,
          "fine_aggregate": 670,
          "fly_ash": 0,
          "index": 13,
          "slag": 190,
          "strength": 42.32693164,
          "superplasticizer": 0,
          "water": 228
         },
         {
          "age": 28,
          "cement": 304,
          "coarse_aggregate": 932,
          "fine_aggregate": 670,
          "fly_ash": 0,
          "index": 14,
          "slag": 76,
          "strength": 47.813781648,
          "superplasticizer": 0,
          "water": 228
         },
         {
          "age": 90,
          "cement": 380,
          "coarse_aggregate": 932,
          "fine_aggregate": 670,
          "fly_ash": 0,
          "index": 15,
          "slag": 0,
          "strength": 52.908319812,
          "superplasticizer": 0,
          "water": 228
         },
         {
          "age": 90,
          "cement": 139.6,
          "coarse_aggregate": 1047,
          "fine_aggregate": 806.9,
          "fly_ash": 0,
          "index": 16,
          "slag": 209.4,
          "strength": 39.358047984,
          "superplasticizer": 0,
          "water": 192
         },
         {
          "age": 365,
          "cement": 342,
          "coarse_aggregate": 932,
          "fine_aggregate": 670,
          "fly_ash": 0,
          "index": 17,
          "slag": 38,
          "strength": 56.141962252,
          "superplasticizer": 0,
          "water": 228
         },
         {
          "age": 90,
          "cement": 380,
          "coarse_aggregate": 932,
          "fine_aggregate": 594,
          "fly_ash": 0,
          "index": 18,
          "slag": 95,
          "strength": 40.563252032,
          "superplasticizer": 0,
          "water": 228
         },
         {
          "age": 180,
          "cement": 475,
          "coarse_aggregate": 932,
          "fine_aggregate": 594,
          "fly_ash": 0,
          "index": 19,
          "slag": 0,
          "strength": 42.620648416,
          "superplasticizer": 0,
          "water": 228
         },
         {
          "age": 180,
          "cement": 427.5,
          "coarse_aggregate": 932,
          "fine_aggregate": 594,
          "fly_ash": 0,
          "index": 20,
          "slag": 47.5,
          "strength": 41.836714204,
          "superplasticizer": 0,
          "water": 228
         },
         {
          "age": 28,
          "cement": 139.6,
          "coarse_aggregate": 1047,
          "fine_aggregate": 806.9,
          "fly_ash": 0,
          "index": 21,
          "slag": 209.4,
          "strength": 28.23748958,
          "superplasticizer": 0,
          "water": 192
         },
         {
          "age": 3,
          "cement": 139.6,
          "coarse_aggregate": 1047,
          "fine_aggregate": 806.9,
          "fly_ash": 0,
          "index": 22,
          "slag": 209.4,
          "strength": 8.06342182,
          "superplasticizer": 0,
          "water": 192
         },
         {
          "age": 180,
          "cement": 139.6,
          "coarse_aggregate": 1047,
          "fine_aggregate": 806.9,
          "fly_ash": 0,
          "index": 23,
          "slag": 209.4,
          "strength": 44.207822168,
          "superplasticizer": 0,
          "water": 192
         },
         {
          "age": 365,
          "cement": 380,
          "coarse_aggregate": 932,
          "fine_aggregate": 670,
          "fly_ash": 0,
          "index": 24,
          "slag": 0,
          "strength": 52.516697444,
          "superplasticizer": 0,
          "water": 228
         },
         {
          "age": 270,
          "cement": 380,
          "coarse_aggregate": 932,
          "fine_aggregate": 670,
          "fly_ash": 0,
          "index": 25,
          "slag": 0,
          "strength": 53.300631656,
          "superplasticizer": 0,
          "water": 228
         },
         {
          "age": 270,
          "cement": 380,
          "coarse_aggregate": 932,
          "fine_aggregate": 594,
          "fly_ash": 0,
          "index": 26,
          "slag": 95,
          "strength": 41.15137506,
          "superplasticizer": 0,
          "water": 228
         },
         {
          "age": 180,
          "cement": 342,
          "coarse_aggregate": 932,
          "fine_aggregate": 670,
          "fly_ash": 0,
          "index": 27,
          "slag": 38,
          "strength": 52.1243856,
          "superplasticizer": 0,
          "water": 228
         },
         {
          "age": 28,
          "cement": 427.5,
          "coarse_aggregate": 932,
          "fine_aggregate": 594,
          "fly_ash": 0,
          "index": 28,
          "slag": 47.5,
          "strength": 37.427515184,
          "superplasticizer": 0,
          "water": 228
         },
         {
          "age": 7,
          "cement": 475,
          "coarse_aggregate": 932,
          "fine_aggregate": 594,
          "fly_ash": 0,
          "index": 29,
          "slag": 0,
          "strength": 38.60376124,
          "superplasticizer": 0,
          "water": 228
         }
        ],
        "schema": {
         "fields": [
          {
           "name": "index",
           "type": "integer"
          },
          {
           "name": "cement",
           "type": "number"
          },
          {
           "name": "slag",
           "type": "number"
          },
          {
           "name": "fly_ash",
           "type": "number"
          },
          {
           "name": "water",
           "type": "number"
          },
          {
           "name": "superplasticizer",
           "type": "number"
          },
          {
           "name": "coarse_aggregate",
           "type": "number"
          },
          {
           "name": "fine_aggregate",
           "type": "number"
          },
          {
           "name": "age",
           "type": "integer"
          },
          {
           "name": "strength",
           "type": "number"
          }
         ],
         "pandas_version": "0.20.0",
         "primaryKey": [
          "index"
         ]
        }
       },
       "total_rows": 30
      },
      "text/html": [
       "<div>\n",
       "<style scoped>\n",
       "    .dataframe tbody tr th:only-of-type {\n",
       "        vertical-align: middle;\n",
       "    }\n",
       "\n",
       "    .dataframe tbody tr th {\n",
       "        vertical-align: top;\n",
       "    }\n",
       "\n",
       "    .dataframe thead th {\n",
       "        text-align: right;\n",
       "    }\n",
       "</style>\n",
       "<table border=\"1\" class=\"dataframe\">\n",
       "  <thead>\n",
       "    <tr style=\"text-align: right;\">\n",
       "      <th></th>\n",
       "      <th>cement</th>\n",
       "      <th>slag</th>\n",
       "      <th>fly_ash</th>\n",
       "      <th>water</th>\n",
       "      <th>superplasticizer</th>\n",
       "      <th>coarse_aggregate</th>\n",
       "      <th>fine_aggregate</th>\n",
       "      <th>age</th>\n",
       "      <th>strength</th>\n",
       "    </tr>\n",
       "  </thead>\n",
       "  <tbody>\n",
       "    <tr>\n",
       "      <th>0</th>\n",
       "      <td>540.0</td>\n",
       "      <td>0.0</td>\n",
       "      <td>0.0</td>\n",
       "      <td>162.0</td>\n",
       "      <td>2.5</td>\n",
       "      <td>1040.0</td>\n",
       "      <td>676.0</td>\n",
       "      <td>28</td>\n",
       "      <td>79.986111</td>\n",
       "    </tr>\n",
       "    <tr>\n",
       "      <th>1</th>\n",
       "      <td>540.0</td>\n",
       "      <td>0.0</td>\n",
       "      <td>0.0</td>\n",
       "      <td>162.0</td>\n",
       "      <td>2.5</td>\n",
       "      <td>1055.0</td>\n",
       "      <td>676.0</td>\n",
       "      <td>28</td>\n",
       "      <td>61.887366</td>\n",
       "    </tr>\n",
       "    <tr>\n",
       "      <th>2</th>\n",
       "      <td>332.5</td>\n",
       "      <td>142.5</td>\n",
       "      <td>0.0</td>\n",
       "      <td>228.0</td>\n",
       "      <td>0.0</td>\n",
       "      <td>932.0</td>\n",
       "      <td>594.0</td>\n",
       "      <td>270</td>\n",
       "      <td>40.269535</td>\n",
       "    </tr>\n",
       "    <tr>\n",
       "      <th>3</th>\n",
       "      <td>332.5</td>\n",
       "      <td>142.5</td>\n",
       "      <td>0.0</td>\n",
       "      <td>228.0</td>\n",
       "      <td>0.0</td>\n",
       "      <td>932.0</td>\n",
       "      <td>594.0</td>\n",
       "      <td>365</td>\n",
       "      <td>41.052780</td>\n",
       "    </tr>\n",
       "    <tr>\n",
       "      <th>4</th>\n",
       "      <td>198.6</td>\n",
       "      <td>132.4</td>\n",
       "      <td>0.0</td>\n",
       "      <td>192.0</td>\n",
       "      <td>0.0</td>\n",
       "      <td>978.4</td>\n",
       "      <td>825.5</td>\n",
       "      <td>360</td>\n",
       "      <td>44.296075</td>\n",
       "    </tr>\n",
       "    <tr>\n",
       "      <th>5</th>\n",
       "      <td>266.0</td>\n",
       "      <td>114.0</td>\n",
       "      <td>0.0</td>\n",
       "      <td>228.0</td>\n",
       "      <td>0.0</td>\n",
       "      <td>932.0</td>\n",
       "      <td>670.0</td>\n",
       "      <td>90</td>\n",
       "      <td>47.029847</td>\n",
       "    </tr>\n",
       "    <tr>\n",
       "      <th>6</th>\n",
       "      <td>380.0</td>\n",
       "      <td>95.0</td>\n",
       "      <td>0.0</td>\n",
       "      <td>228.0</td>\n",
       "      <td>0.0</td>\n",
       "      <td>932.0</td>\n",
       "      <td>594.0</td>\n",
       "      <td>365</td>\n",
       "      <td>43.698299</td>\n",
       "    </tr>\n",
       "    <tr>\n",
       "      <th>7</th>\n",
       "      <td>380.0</td>\n",
       "      <td>95.0</td>\n",
       "      <td>0.0</td>\n",
       "      <td>228.0</td>\n",
       "      <td>0.0</td>\n",
       "      <td>932.0</td>\n",
       "      <td>594.0</td>\n",
       "      <td>28</td>\n",
       "      <td>36.447770</td>\n",
       "    </tr>\n",
       "    <tr>\n",
       "      <th>8</th>\n",
       "      <td>266.0</td>\n",
       "      <td>114.0</td>\n",
       "      <td>0.0</td>\n",
       "      <td>228.0</td>\n",
       "      <td>0.0</td>\n",
       "      <td>932.0</td>\n",
       "      <td>670.0</td>\n",
       "      <td>28</td>\n",
       "      <td>45.854291</td>\n",
       "    </tr>\n",
       "    <tr>\n",
       "      <th>9</th>\n",
       "      <td>475.0</td>\n",
       "      <td>0.0</td>\n",
       "      <td>0.0</td>\n",
       "      <td>228.0</td>\n",
       "      <td>0.0</td>\n",
       "      <td>932.0</td>\n",
       "      <td>594.0</td>\n",
       "      <td>28</td>\n",
       "      <td>39.289790</td>\n",
       "    </tr>\n",
       "    <tr>\n",
       "      <th>10</th>\n",
       "      <td>198.6</td>\n",
       "      <td>132.4</td>\n",
       "      <td>0.0</td>\n",
       "      <td>192.0</td>\n",
       "      <td>0.0</td>\n",
       "      <td>978.4</td>\n",
       "      <td>825.5</td>\n",
       "      <td>90</td>\n",
       "      <td>38.074244</td>\n",
       "    </tr>\n",
       "    <tr>\n",
       "      <th>11</th>\n",
       "      <td>198.6</td>\n",
       "      <td>132.4</td>\n",
       "      <td>0.0</td>\n",
       "      <td>192.0</td>\n",
       "      <td>0.0</td>\n",
       "      <td>978.4</td>\n",
       "      <td>825.5</td>\n",
       "      <td>28</td>\n",
       "      <td>28.021684</td>\n",
       "    </tr>\n",
       "    <tr>\n",
       "      <th>12</th>\n",
       "      <td>427.5</td>\n",
       "      <td>47.5</td>\n",
       "      <td>0.0</td>\n",
       "      <td>228.0</td>\n",
       "      <td>0.0</td>\n",
       "      <td>932.0</td>\n",
       "      <td>594.0</td>\n",
       "      <td>270</td>\n",
       "      <td>43.012960</td>\n",
       "    </tr>\n",
       "    <tr>\n",
       "      <th>13</th>\n",
       "      <td>190.0</td>\n",
       "      <td>190.0</td>\n",
       "      <td>0.0</td>\n",
       "      <td>228.0</td>\n",
       "      <td>0.0</td>\n",
       "      <td>932.0</td>\n",
       "      <td>670.0</td>\n",
       "      <td>90</td>\n",
       "      <td>42.326932</td>\n",
       "    </tr>\n",
       "    <tr>\n",
       "      <th>14</th>\n",
       "      <td>304.0</td>\n",
       "      <td>76.0</td>\n",
       "      <td>0.0</td>\n",
       "      <td>228.0</td>\n",
       "      <td>0.0</td>\n",
       "      <td>932.0</td>\n",
       "      <td>670.0</td>\n",
       "      <td>28</td>\n",
       "      <td>47.813782</td>\n",
       "    </tr>\n",
       "    <tr>\n",
       "      <th>15</th>\n",
       "      <td>380.0</td>\n",
       "      <td>0.0</td>\n",
       "      <td>0.0</td>\n",
       "      <td>228.0</td>\n",
       "      <td>0.0</td>\n",
       "      <td>932.0</td>\n",
       "      <td>670.0</td>\n",
       "      <td>90</td>\n",
       "      <td>52.908320</td>\n",
       "    </tr>\n",
       "    <tr>\n",
       "      <th>16</th>\n",
       "      <td>139.6</td>\n",
       "      <td>209.4</td>\n",
       "      <td>0.0</td>\n",
       "      <td>192.0</td>\n",
       "      <td>0.0</td>\n",
       "      <td>1047.0</td>\n",
       "      <td>806.9</td>\n",
       "      <td>90</td>\n",
       "      <td>39.358048</td>\n",
       "    </tr>\n",
       "    <tr>\n",
       "      <th>17</th>\n",
       "      <td>342.0</td>\n",
       "      <td>38.0</td>\n",
       "      <td>0.0</td>\n",
       "      <td>228.0</td>\n",
       "      <td>0.0</td>\n",
       "      <td>932.0</td>\n",
       "      <td>670.0</td>\n",
       "      <td>365</td>\n",
       "      <td>56.141962</td>\n",
       "    </tr>\n",
       "    <tr>\n",
       "      <th>18</th>\n",
       "      <td>380.0</td>\n",
       "      <td>95.0</td>\n",
       "      <td>0.0</td>\n",
       "      <td>228.0</td>\n",
       "      <td>0.0</td>\n",
       "      <td>932.0</td>\n",
       "      <td>594.0</td>\n",
       "      <td>90</td>\n",
       "      <td>40.563252</td>\n",
       "    </tr>\n",
       "    <tr>\n",
       "      <th>19</th>\n",
       "      <td>475.0</td>\n",
       "      <td>0.0</td>\n",
       "      <td>0.0</td>\n",
       "      <td>228.0</td>\n",
       "      <td>0.0</td>\n",
       "      <td>932.0</td>\n",
       "      <td>594.0</td>\n",
       "      <td>180</td>\n",
       "      <td>42.620648</td>\n",
       "    </tr>\n",
       "    <tr>\n",
       "      <th>20</th>\n",
       "      <td>427.5</td>\n",
       "      <td>47.5</td>\n",
       "      <td>0.0</td>\n",
       "      <td>228.0</td>\n",
       "      <td>0.0</td>\n",
       "      <td>932.0</td>\n",
       "      <td>594.0</td>\n",
       "      <td>180</td>\n",
       "      <td>41.836714</td>\n",
       "    </tr>\n",
       "    <tr>\n",
       "      <th>21</th>\n",
       "      <td>139.6</td>\n",
       "      <td>209.4</td>\n",
       "      <td>0.0</td>\n",
       "      <td>192.0</td>\n",
       "      <td>0.0</td>\n",
       "      <td>1047.0</td>\n",
       "      <td>806.9</td>\n",
       "      <td>28</td>\n",
       "      <td>28.237490</td>\n",
       "    </tr>\n",
       "    <tr>\n",
       "      <th>22</th>\n",
       "      <td>139.6</td>\n",
       "      <td>209.4</td>\n",
       "      <td>0.0</td>\n",
       "      <td>192.0</td>\n",
       "      <td>0.0</td>\n",
       "      <td>1047.0</td>\n",
       "      <td>806.9</td>\n",
       "      <td>3</td>\n",
       "      <td>8.063422</td>\n",
       "    </tr>\n",
       "    <tr>\n",
       "      <th>23</th>\n",
       "      <td>139.6</td>\n",
       "      <td>209.4</td>\n",
       "      <td>0.0</td>\n",
       "      <td>192.0</td>\n",
       "      <td>0.0</td>\n",
       "      <td>1047.0</td>\n",
       "      <td>806.9</td>\n",
       "      <td>180</td>\n",
       "      <td>44.207822</td>\n",
       "    </tr>\n",
       "    <tr>\n",
       "      <th>24</th>\n",
       "      <td>380.0</td>\n",
       "      <td>0.0</td>\n",
       "      <td>0.0</td>\n",
       "      <td>228.0</td>\n",
       "      <td>0.0</td>\n",
       "      <td>932.0</td>\n",
       "      <td>670.0</td>\n",
       "      <td>365</td>\n",
       "      <td>52.516697</td>\n",
       "    </tr>\n",
       "    <tr>\n",
       "      <th>25</th>\n",
       "      <td>380.0</td>\n",
       "      <td>0.0</td>\n",
       "      <td>0.0</td>\n",
       "      <td>228.0</td>\n",
       "      <td>0.0</td>\n",
       "      <td>932.0</td>\n",
       "      <td>670.0</td>\n",
       "      <td>270</td>\n",
       "      <td>53.300632</td>\n",
       "    </tr>\n",
       "    <tr>\n",
       "      <th>26</th>\n",
       "      <td>380.0</td>\n",
       "      <td>95.0</td>\n",
       "      <td>0.0</td>\n",
       "      <td>228.0</td>\n",
       "      <td>0.0</td>\n",
       "      <td>932.0</td>\n",
       "      <td>594.0</td>\n",
       "      <td>270</td>\n",
       "      <td>41.151375</td>\n",
       "    </tr>\n",
       "    <tr>\n",
       "      <th>27</th>\n",
       "      <td>342.0</td>\n",
       "      <td>38.0</td>\n",
       "      <td>0.0</td>\n",
       "      <td>228.0</td>\n",
       "      <td>0.0</td>\n",
       "      <td>932.0</td>\n",
       "      <td>670.0</td>\n",
       "      <td>180</td>\n",
       "      <td>52.124386</td>\n",
       "    </tr>\n",
       "    <tr>\n",
       "      <th>28</th>\n",
       "      <td>427.5</td>\n",
       "      <td>47.5</td>\n",
       "      <td>0.0</td>\n",
       "      <td>228.0</td>\n",
       "      <td>0.0</td>\n",
       "      <td>932.0</td>\n",
       "      <td>594.0</td>\n",
       "      <td>28</td>\n",
       "      <td>37.427515</td>\n",
       "    </tr>\n",
       "    <tr>\n",
       "      <th>29</th>\n",
       "      <td>475.0</td>\n",
       "      <td>0.0</td>\n",
       "      <td>0.0</td>\n",
       "      <td>228.0</td>\n",
       "      <td>0.0</td>\n",
       "      <td>932.0</td>\n",
       "      <td>594.0</td>\n",
       "      <td>7</td>\n",
       "      <td>38.603761</td>\n",
       "    </tr>\n",
       "  </tbody>\n",
       "</table>\n",
       "</div>"
      ],
      "text/plain": [
       "    cement   slag  fly_ash  water  superplasticizer  coarse_aggregate  \\\n",
       "0    540.0    0.0      0.0  162.0               2.5            1040.0   \n",
       "1    540.0    0.0      0.0  162.0               2.5            1055.0   \n",
       "2    332.5  142.5      0.0  228.0               0.0             932.0   \n",
       "3    332.5  142.5      0.0  228.0               0.0             932.0   \n",
       "4    198.6  132.4      0.0  192.0               0.0             978.4   \n",
       "5    266.0  114.0      0.0  228.0               0.0             932.0   \n",
       "6    380.0   95.0      0.0  228.0               0.0             932.0   \n",
       "7    380.0   95.0      0.0  228.0               0.0             932.0   \n",
       "8    266.0  114.0      0.0  228.0               0.0             932.0   \n",
       "9    475.0    0.0      0.0  228.0               0.0             932.0   \n",
       "10   198.6  132.4      0.0  192.0               0.0             978.4   \n",
       "11   198.6  132.4      0.0  192.0               0.0             978.4   \n",
       "12   427.5   47.5      0.0  228.0               0.0             932.0   \n",
       "13   190.0  190.0      0.0  228.0               0.0             932.0   \n",
       "14   304.0   76.0      0.0  228.0               0.0             932.0   \n",
       "15   380.0    0.0      0.0  228.0               0.0             932.0   \n",
       "16   139.6  209.4      0.0  192.0               0.0            1047.0   \n",
       "17   342.0   38.0      0.0  228.0               0.0             932.0   \n",
       "18   380.0   95.0      0.0  228.0               0.0             932.0   \n",
       "19   475.0    0.0      0.0  228.0               0.0             932.0   \n",
       "20   427.5   47.5      0.0  228.0               0.0             932.0   \n",
       "21   139.6  209.4      0.0  192.0               0.0            1047.0   \n",
       "22   139.6  209.4      0.0  192.0               0.0            1047.0   \n",
       "23   139.6  209.4      0.0  192.0               0.0            1047.0   \n",
       "24   380.0    0.0      0.0  228.0               0.0             932.0   \n",
       "25   380.0    0.0      0.0  228.0               0.0             932.0   \n",
       "26   380.0   95.0      0.0  228.0               0.0             932.0   \n",
       "27   342.0   38.0      0.0  228.0               0.0             932.0   \n",
       "28   427.5   47.5      0.0  228.0               0.0             932.0   \n",
       "29   475.0    0.0      0.0  228.0               0.0             932.0   \n",
       "\n",
       "    fine_aggregate  age   strength  \n",
       "0            676.0   28  79.986111  \n",
       "1            676.0   28  61.887366  \n",
       "2            594.0  270  40.269535  \n",
       "3            594.0  365  41.052780  \n",
       "4            825.5  360  44.296075  \n",
       "5            670.0   90  47.029847  \n",
       "6            594.0  365  43.698299  \n",
       "7            594.0   28  36.447770  \n",
       "8            670.0   28  45.854291  \n",
       "9            594.0   28  39.289790  \n",
       "10           825.5   90  38.074244  \n",
       "11           825.5   28  28.021684  \n",
       "12           594.0  270  43.012960  \n",
       "13           670.0   90  42.326932  \n",
       "14           670.0   28  47.813782  \n",
       "15           670.0   90  52.908320  \n",
       "16           806.9   90  39.358048  \n",
       "17           670.0  365  56.141962  \n",
       "18           594.0   90  40.563252  \n",
       "19           594.0  180  42.620648  \n",
       "20           594.0  180  41.836714  \n",
       "21           806.9   28  28.237490  \n",
       "22           806.9    3   8.063422  \n",
       "23           806.9  180  44.207822  \n",
       "24           670.0  365  52.516697  \n",
       "25           670.0  270  53.300632  \n",
       "26           594.0  270  41.151375  \n",
       "27           670.0  180  52.124386  \n",
       "28           594.0   28  37.427515  \n",
       "29           594.0    7  38.603761  "
      ]
     },
     "execution_count": 61,
     "metadata": {},
     "output_type": "execute_result"
    }
   ],
   "source": [
    "import pandas as pd\n",
    "import numpy as np\n",
    "df = pd.read_csv('data/concrete_data.csv')\n",
    "df.head(30)"
   ]
  },
  {
   "cell_type": "markdown",
   "id": "54e0ae0c-ff96-443e-9ff3-718f1ab846e5",
   "metadata": {},
   "source": [
    "## 💪 Challenge\n",
    "Provide your project leader with a formula that estimates the compressive strength. Include:\n",
    "\n",
    "1. The average strength of the concrete samples at 1, 7, 14, and 28 days of age.\n",
    "2. The coefficients $\\beta_{0}$, $\\beta_{1}$ ... $\\beta_{8}$, to use in the following formula:\n",
    "\n",
    "$$ Concrete \\ Strength = \\beta_{0} \\ + \\ \\beta_{1}*cement \\ + \\ \\beta_{2}*slag \\ + \\ \\beta_{3}*fly \\ ash  \\ + \\ \\beta_{4}*water \\ + $$ \n",
    "$$ \\beta_{5}*superplasticizer \\ + \\ \\beta_{6}*coarse \\ aggregate \\ + \\ \\beta_{7}*fine \\ aggregate \\ + \\ \\beta_{8}*age $$"
   ]
  },
  {
   "cell_type": "markdown",
   "id": "efda8e32-5c7e-48cc-8bd6-83ad3ba72f6e",
   "metadata": {},
   "source": [
    "## 🧑‍⚖️ Judging criteria\n",
    "\n",
    "This is a community-based competition. The top 5 most upvoted entries will win.\n",
    "\n",
    "The winners will receive DataCamp merchandise."
   ]
  },
  {
   "cell_type": "markdown",
   "id": "7fa68a10-14d8-4db9-a473-9efdab8f2fbd",
   "metadata": {},
   "source": [
    "## ✅ Checklist before publishing\n",
    "- Rename your workspace to make it descriptive of your work. N.B. you should leave the notebook name as notebook.ipynb.\n",
    "- **Remove redundant cells** like the judging criteria, so the workbook is focused on your work.\n",
    "- Check that all the cells run without error."
   ]
  },
  {
   "cell_type": "markdown",
   "id": "3bef7acb-5b00-4282-8c3e-1aa34bf4b7df",
   "metadata": {},
   "source": [
    "## ⌛️ Time is ticking. Good luck!"
   ]
  },
  {
   "cell_type": "code",
   "execution_count": 62,
   "id": "61d09a65-7a7f-43de-951b-decb042f5bd0",
   "metadata": {},
   "outputs": [
    {
     "data": {
      "application/com.datacamp.data-table.v1+json": {
       "is_truncated": false,
       "table": {
        "data": [
         {
          "age": 1030,
          "cement": 1030,
          "coarse_aggregate": 1030,
          "fine_aggregate": 1030,
          "fly_ash": 1030,
          "index": "count",
          "slag": 1030,
          "strength": 1030,
          "superplasticizer": 1030,
          "water": 1030
         },
         {
          "age": 45.6621359223,
          "cement": 281.165631068,
          "coarse_aggregate": 972.918592233,
          "fine_aggregate": 773.5788834951,
          "fly_ash": 54.1871359223,
          "index": "mean",
          "slag": 73.8954854369,
          "strength": 35.8178358261,
          "superplasticizer": 6.2031116505,
          "water": 181.5663592233
         },
         {
          "age": 63.169911581,
          "cement": 104.5071416429,
          "coarse_aggregate": 77.7538180918,
          "fine_aggregate": 80.175427399,
          "fly_ash": 63.9964693819,
          "index": "std",
          "slag": 86.2791036432,
          "strength": 16.7056791749,
          "superplasticizer": 5.9734916506,
          "water": 21.3555670669
         },
         {
          "age": 1,
          "cement": 102,
          "coarse_aggregate": 801,
          "fine_aggregate": 594,
          "fly_ash": 0,
          "index": "min",
          "slag": 0,
          "strength": 2.331807832,
          "superplasticizer": 0,
          "water": 121.75
         },
         {
          "age": 7,
          "cement": 192.375,
          "coarse_aggregate": 932,
          "fine_aggregate": 730.95,
          "fly_ash": 0,
          "index": "25%",
          "slag": 0,
          "strength": 23.707115153,
          "superplasticizer": 0,
          "water": 164.9
         },
         {
          "age": 28,
          "cement": 272.9,
          "coarse_aggregate": 968,
          "fine_aggregate": 779.51,
          "fly_ash": 0,
          "index": "50%",
          "slag": 22,
          "strength": 34.44277358,
          "superplasticizer": 6.35,
          "water": 185
         },
         {
          "age": 56,
          "cement": 350,
          "coarse_aggregate": 1029.4,
          "fine_aggregate": 824,
          "fly_ash": 118.27,
          "index": "75%",
          "slag": 142.95,
          "strength": 46.13628654,
          "superplasticizer": 10.16,
          "water": 192
         },
         {
          "age": 365,
          "cement": 540,
          "coarse_aggregate": 1145,
          "fine_aggregate": 992.6,
          "fly_ash": 200.1,
          "index": "max",
          "slag": 359.4,
          "strength": 82.5992248,
          "superplasticizer": 32.2,
          "water": 247
         }
        ],
        "schema": {
         "fields": [
          {
           "name": "index",
           "type": "string"
          },
          {
           "name": "cement",
           "type": "number"
          },
          {
           "name": "slag",
           "type": "number"
          },
          {
           "name": "fly_ash",
           "type": "number"
          },
          {
           "name": "water",
           "type": "number"
          },
          {
           "name": "superplasticizer",
           "type": "number"
          },
          {
           "name": "coarse_aggregate",
           "type": "number"
          },
          {
           "name": "fine_aggregate",
           "type": "number"
          },
          {
           "name": "age",
           "type": "number"
          },
          {
           "name": "strength",
           "type": "number"
          }
         ],
         "pandas_version": "0.20.0",
         "primaryKey": [
          "index"
         ]
        }
       },
       "total_rows": 8
      },
      "text/html": [
       "<div>\n",
       "<style scoped>\n",
       "    .dataframe tbody tr th:only-of-type {\n",
       "        vertical-align: middle;\n",
       "    }\n",
       "\n",
       "    .dataframe tbody tr th {\n",
       "        vertical-align: top;\n",
       "    }\n",
       "\n",
       "    .dataframe thead th {\n",
       "        text-align: right;\n",
       "    }\n",
       "</style>\n",
       "<table border=\"1\" class=\"dataframe\">\n",
       "  <thead>\n",
       "    <tr style=\"text-align: right;\">\n",
       "      <th></th>\n",
       "      <th>cement</th>\n",
       "      <th>slag</th>\n",
       "      <th>fly_ash</th>\n",
       "      <th>water</th>\n",
       "      <th>superplasticizer</th>\n",
       "      <th>coarse_aggregate</th>\n",
       "      <th>fine_aggregate</th>\n",
       "      <th>age</th>\n",
       "      <th>strength</th>\n",
       "    </tr>\n",
       "  </thead>\n",
       "  <tbody>\n",
       "    <tr>\n",
       "      <th>count</th>\n",
       "      <td>1030.000000</td>\n",
       "      <td>1030.000000</td>\n",
       "      <td>1030.000000</td>\n",
       "      <td>1030.000000</td>\n",
       "      <td>1030.000000</td>\n",
       "      <td>1030.000000</td>\n",
       "      <td>1030.000000</td>\n",
       "      <td>1030.000000</td>\n",
       "      <td>1030.000000</td>\n",
       "    </tr>\n",
       "    <tr>\n",
       "      <th>mean</th>\n",
       "      <td>281.165631</td>\n",
       "      <td>73.895485</td>\n",
       "      <td>54.187136</td>\n",
       "      <td>181.566359</td>\n",
       "      <td>6.203112</td>\n",
       "      <td>972.918592</td>\n",
       "      <td>773.578883</td>\n",
       "      <td>45.662136</td>\n",
       "      <td>35.817836</td>\n",
       "    </tr>\n",
       "    <tr>\n",
       "      <th>std</th>\n",
       "      <td>104.507142</td>\n",
       "      <td>86.279104</td>\n",
       "      <td>63.996469</td>\n",
       "      <td>21.355567</td>\n",
       "      <td>5.973492</td>\n",
       "      <td>77.753818</td>\n",
       "      <td>80.175427</td>\n",
       "      <td>63.169912</td>\n",
       "      <td>16.705679</td>\n",
       "    </tr>\n",
       "    <tr>\n",
       "      <th>min</th>\n",
       "      <td>102.000000</td>\n",
       "      <td>0.000000</td>\n",
       "      <td>0.000000</td>\n",
       "      <td>121.750000</td>\n",
       "      <td>0.000000</td>\n",
       "      <td>801.000000</td>\n",
       "      <td>594.000000</td>\n",
       "      <td>1.000000</td>\n",
       "      <td>2.331808</td>\n",
       "    </tr>\n",
       "    <tr>\n",
       "      <th>25%</th>\n",
       "      <td>192.375000</td>\n",
       "      <td>0.000000</td>\n",
       "      <td>0.000000</td>\n",
       "      <td>164.900000</td>\n",
       "      <td>0.000000</td>\n",
       "      <td>932.000000</td>\n",
       "      <td>730.950000</td>\n",
       "      <td>7.000000</td>\n",
       "      <td>23.707115</td>\n",
       "    </tr>\n",
       "    <tr>\n",
       "      <th>50%</th>\n",
       "      <td>272.900000</td>\n",
       "      <td>22.000000</td>\n",
       "      <td>0.000000</td>\n",
       "      <td>185.000000</td>\n",
       "      <td>6.350000</td>\n",
       "      <td>968.000000</td>\n",
       "      <td>779.510000</td>\n",
       "      <td>28.000000</td>\n",
       "      <td>34.442774</td>\n",
       "    </tr>\n",
       "    <tr>\n",
       "      <th>75%</th>\n",
       "      <td>350.000000</td>\n",
       "      <td>142.950000</td>\n",
       "      <td>118.270000</td>\n",
       "      <td>192.000000</td>\n",
       "      <td>10.160000</td>\n",
       "      <td>1029.400000</td>\n",
       "      <td>824.000000</td>\n",
       "      <td>56.000000</td>\n",
       "      <td>46.136287</td>\n",
       "    </tr>\n",
       "    <tr>\n",
       "      <th>max</th>\n",
       "      <td>540.000000</td>\n",
       "      <td>359.400000</td>\n",
       "      <td>200.100000</td>\n",
       "      <td>247.000000</td>\n",
       "      <td>32.200000</td>\n",
       "      <td>1145.000000</td>\n",
       "      <td>992.600000</td>\n",
       "      <td>365.000000</td>\n",
       "      <td>82.599225</td>\n",
       "    </tr>\n",
       "  </tbody>\n",
       "</table>\n",
       "</div>"
      ],
      "text/plain": [
       "            cement         slag      fly_ash        water  superplasticizer  \\\n",
       "count  1030.000000  1030.000000  1030.000000  1030.000000       1030.000000   \n",
       "mean    281.165631    73.895485    54.187136   181.566359          6.203112   \n",
       "std     104.507142    86.279104    63.996469    21.355567          5.973492   \n",
       "min     102.000000     0.000000     0.000000   121.750000          0.000000   \n",
       "25%     192.375000     0.000000     0.000000   164.900000          0.000000   \n",
       "50%     272.900000    22.000000     0.000000   185.000000          6.350000   \n",
       "75%     350.000000   142.950000   118.270000   192.000000         10.160000   \n",
       "max     540.000000   359.400000   200.100000   247.000000         32.200000   \n",
       "\n",
       "       coarse_aggregate  fine_aggregate          age     strength  \n",
       "count       1030.000000     1030.000000  1030.000000  1030.000000  \n",
       "mean         972.918592      773.578883    45.662136    35.817836  \n",
       "std           77.753818       80.175427    63.169912    16.705679  \n",
       "min          801.000000      594.000000     1.000000     2.331808  \n",
       "25%          932.000000      730.950000     7.000000    23.707115  \n",
       "50%          968.000000      779.510000    28.000000    34.442774  \n",
       "75%         1029.400000      824.000000    56.000000    46.136287  \n",
       "max         1145.000000      992.600000   365.000000    82.599225  "
      ]
     },
     "execution_count": 62,
     "metadata": {},
     "output_type": "execute_result"
    }
   ],
   "source": [
    "\n",
    "df.describe()\n",
    "\n",
    "\n"
   ]
  },
  {
   "cell_type": "code",
   "execution_count": 63,
   "id": "abc73584-bd20-4cab-b10f-26c1a91f3928",
   "metadata": {},
   "outputs": [
    {
     "name": "stdout",
     "output_type": "stream",
     "text": [
      "<class 'pandas.core.frame.DataFrame'>\n",
      "RangeIndex: 1030 entries, 0 to 1029\n",
      "Data columns (total 9 columns):\n",
      " #   Column            Non-Null Count  Dtype  \n",
      "---  ------            --------------  -----  \n",
      " 0   cement            1030 non-null   float64\n",
      " 1   slag              1030 non-null   float64\n",
      " 2   fly_ash           1030 non-null   float64\n",
      " 3   water             1030 non-null   float64\n",
      " 4   superplasticizer  1030 non-null   float64\n",
      " 5   coarse_aggregate  1030 non-null   float64\n",
      " 6   fine_aggregate    1030 non-null   float64\n",
      " 7   age               1030 non-null   int64  \n",
      " 8   strength          1030 non-null   float64\n",
      "dtypes: float64(8), int64(1)\n",
      "memory usage: 72.5 KB\n"
     ]
    }
   ],
   "source": [
    "df.info()"
   ]
  },
  {
   "cell_type": "code",
   "execution_count": 64,
   "id": "9f08eee4-5d6e-48b7-9d7c-4dfa199e3f62",
   "metadata": {},
   "outputs": [
    {
     "data": {
      "text/plain": [
       "(1030, 9)"
      ]
     },
     "execution_count": 64,
     "metadata": {},
     "output_type": "execute_result"
    }
   ],
   "source": [
    "df.shape"
   ]
  },
  {
   "cell_type": "code",
   "execution_count": 65,
   "id": "e14db8f3-d07f-4d70-b951-21d2475bfd04",
   "metadata": {},
   "outputs": [],
   "source": [
    "X_features = df.drop(['strength'],axis = 1)\n",
    "y_target = df['strength']"
   ]
  },
  {
   "cell_type": "code",
   "execution_count": 66,
   "id": "03a777ef-deb9-4543-9463-3dbeebc96c38",
   "metadata": {},
   "outputs": [
    {
     "data": {
      "text/plain": [
       "(1030, 8)"
      ]
     },
     "execution_count": 66,
     "metadata": {},
     "output_type": "execute_result"
    }
   ],
   "source": [
    "X_features.shape"
   ]
  },
  {
   "cell_type": "code",
   "execution_count": 67,
   "id": "f40bcb87-c4c8-4de4-ba0a-c14ba5706c39",
   "metadata": {},
   "outputs": [
    {
     "data": {
      "text/plain": [
       "(1030,)"
      ]
     },
     "execution_count": 67,
     "metadata": {},
     "output_type": "execute_result"
    }
   ],
   "source": [
    "y_target.shape"
   ]
  },
  {
   "cell_type": "code",
   "execution_count": 68,
   "id": "4d3af6bf-f959-44b2-8155-6186c046a18b",
   "metadata": {},
   "outputs": [],
   "source": [
    "from sklearn.model_selection import train_test_split\n",
    "x_train,x_test,y_train,y_test =train_test_split(X_features,y_target,test_size = 0.2, random_state = 0)"
   ]
  },
  {
   "cell_type": "code",
   "execution_count": 69,
   "id": "17e8bccc-49b5-4fb6-983a-d1fab85c4871",
   "metadata": {},
   "outputs": [
    {
     "data": {
      "text/plain": [
       "DecisionTreeRegressor()"
      ]
     },
     "execution_count": 69,
     "metadata": {},
     "output_type": "execute_result"
    }
   ],
   "source": [
    "from sklearn.tree import DecisionTreeRegressor\n",
    "\n",
    "dec_tree = DecisionTreeRegressor()\n",
    "dec_tree.fit(x_train,y_train)"
   ]
  },
  {
   "cell_type": "code",
   "execution_count": 70,
   "id": "a87b7f06-27e4-4745-8ff3-4e6a397e5924",
   "metadata": {},
   "outputs": [
    {
     "name": "stdout",
     "output_type": "stream",
     "text": [
      "Accuracy for decision tree regressor: 0.7790422993627737\n",
      "Mean Squared Error for decision tree regressor: 58.19678796735744\n",
      "Square Root Mean Squared Error for decision tree regressor: 7.628681928574387\n"
     ]
    }
   ],
   "source": [
    "from sklearn.metrics import mean_squared_error\n",
    "accuracy = dec_tree.score(x_test, y_test)\n",
    "y_pred =dec_tree.predict(x_test)\n",
    "\n",
    "print(\"Accuracy for decision tree regressor:\",accuracy)\n",
    "print(\"Mean Squared Error for decision tree regressor:\",mean_squared_error(y_test, y_pred))\n",
    "print(\"Square Root Mean Squared Error for decision tree regressor:\",np.sqrt(mean_squared_error(y_test, y_pred)))"
   ]
  },
  {
   "cell_type": "code",
   "execution_count": 71,
   "id": "9775ca2c-e437-4b8a-b22c-bd4462018aee",
   "metadata": {},
   "outputs": [
    {
     "name": "stdout",
     "output_type": "stream",
     "text": [
      "Actual: [26.0621928  10.35455057 79.29663476 74.98740976  9.69472204 47.09810556\n",
      " 58.99846132 22.7182342  61.88736576 52.1243856  17.54026944 48.15300384\n",
      " 38.32797084 17.20035777 56.83350668 55.25460664 33.35684888 34.6806428\n",
      " 52.61391356 39.94134468 61.45989064 27.62730332 32.90179472 41.63745564\n",
      " 17.54026944 26.84819544 66.89985628 21.0634918  61.06688932 66.9481196 ]\n",
      "Prediction dec_tree_reg: [12.63809508  7.50701469 79.29663476 56.3991368   4.90355331 47.64623898\n",
      " 69.83702404 19.41564416 79.98611076 56.14196225 17.57612219 40.38950408\n",
      " 29.44751996 12.37264682 68.29949256 56.14403068 42.29245784 35.76312012\n",
      " 59.76377968 34.73580088 56.33708396 26.94472208 21.50475644 59.76377968\n",
      " 14.54104884 25.17966352 60.2946762  31.35047372 56.14403068 66.82401392]\n"
     ]
    }
   ],
   "source": [
    "print('Actual:',y_test.values[0:30])\n",
    "print('Prediction dec_tree_reg:',y_pred[0:30])"
   ]
  },
  {
   "cell_type": "code",
   "execution_count": 72,
   "id": "760e29bd-d3c4-40c9-b0bb-2b4d2e1e4cb9",
   "metadata": {},
   "outputs": [
    {
     "data": {
      "text/plain": [
       "RandomForestRegressor()"
      ]
     },
     "execution_count": 72,
     "metadata": {},
     "output_type": "execute_result"
    }
   ],
   "source": [
    "from sklearn.ensemble import RandomForestRegressor\n",
    "\n",
    "rnd_reg = RandomForestRegressor()\n",
    "rnd_reg.fit(x_train,y_train)"
   ]
  },
  {
   "cell_type": "code",
   "execution_count": 73,
   "id": "e29451e9-43e2-42d7-ba4c-36eb80e7c34b",
   "metadata": {},
   "outputs": [
    {
     "name": "stdout",
     "output_type": "stream",
     "text": [
      "Accuracy for random forest regressor: 0.9194483599424333\n",
      "Mean Squared Error for random forest regressor: 21.216036840235407\n",
      "Square root Mean Squared Error for random forest regressor: 4.60608693363851\n"
     ]
    }
   ],
   "source": [
    "accuracy_rnd = rnd_reg.score(x_test, y_test)\n",
    "pred = rnd_reg.predict(x_test)\n",
    "\n",
    "print(\"Accuracy for random forest regressor:\",accuracy_rnd)\n",
    "print(\"Mean Squared Error for random forest regressor:\",mean_squared_error(y_test, pred))\n",
    "print(\"Square root Mean Squared Error for random forest regressor:\",np.sqrt(mean_squared_error(y_test, pred)))"
   ]
  },
  {
   "cell_type": "code",
   "execution_count": 74,
   "id": "19fce593-40b5-44b7-86d7-5c5c4712d34a",
   "metadata": {},
   "outputs": [
    {
     "name": "stdout",
     "output_type": "stream",
     "text": [
      "Actual value: [26.0621928  10.35455057 79.29663476 74.98740976  9.69472204 47.09810556\n",
      " 58.99846132 22.7182342  61.88736576 52.1243856  17.54026944 48.15300384\n",
      " 38.32797084 17.20035777 56.83350668 55.25460664 33.35684888 34.6806428\n",
      " 52.61391356 39.94134468 61.45989064 27.62730332 32.90179472 41.63745564\n",
      " 17.54026944 26.84819544 66.89985628 21.0634918  61.06688932 66.9481196 ]\n",
      "Prediction rnd_for_reg: [22.9641959   7.86090302 79.24968144 61.66451628 11.30769598 49.31907914\n",
      " 60.61479301 23.65226734 73.34739457 51.19553929 18.57090506 42.54097257\n",
      " 34.91773981 14.72968947 51.88658533 54.88746166 40.05628033 34.99234111\n",
      " 51.90025074 38.26582837 60.24527114 28.26940542 27.29283851 38.70822276\n",
      " 16.24010386 25.51912013 64.30033969 25.78261028 57.31433838 61.08840097]\n"
     ]
    }
   ],
   "source": [
    "\n",
    "print('Actual value:',y_test.values[0:30])\n",
    "print('Prediction rnd_for_reg:',pred[0:30])"
   ]
  },
  {
   "cell_type": "code",
   "execution_count": 75,
   "id": "5ac0763d-b8f8-4fc4-bc7c-eb05239dd2cc",
   "metadata": {},
   "outputs": [
    {
     "data": {
      "image/png": "[encoded data removed]",
      "text/plain": [
       "<Figure size 720x432 with 1 Axes>"
      ]
     },
     "metadata": {
      "needs_background": "light"
     },
     "output_type": "display_data"
    }
   ],
   "source": [
    "import matplotlib.pyplot as plt\n",
    "plt.figure(figsize=[10,6])\n",
    "plt.scatter(pred, y_test)\n",
    "plt.plot([y_test.min(), y_test.max()], [y_test.min(), y_test.max()], color='red')\n",
    "plt.title('Random Forest Regressor')\n",
    "plt.xlabel('predicted')\n",
    "plt.ylabel('orignal')\n",
    "plt.show()"
   ]
  },
  {
   "cell_type": "code",
   "execution_count": 78,
   "id": "27adece9-50bb-4468-8193-50a9265d65d2",
   "metadata": {},
   "outputs": [
    {
     "data": {
      "image/png": "[encoded data removed]",
      "text/plain": [
       "<Figure size 720x432 with 1 Axes>"
      ]
     },
     "metadata": {
      "needs_background": "light"
     },
     "output_type": "display_data"
    }
   ],
   "source": [
    "plt.figure(figsize=[10,6])\n",
    "plt.scatter(y_pred, y_test)\n",
    "plt.plot([y_test.min(), y_test.max()], [y_test.min(), y_test.max()], color='red')\n",
    "plt.title('Decision Tree Regressor')\n",
    "plt.xlabel('predicted')\n",
    "plt.ylabel('orignal')\n",
    "plt.show()"
   ]
  }
 ],
 "metadata": {
  "editor": "DataCamp Workspace",
  "kernelspec": {
   "display_name": "Python 3 (ipykernel)",
   "language": "python",
   "name": "python3"
  },
  "language_info": {
   "codemirror_mode": {
    "name": "ipython",
    "version": 3
   },
   "file_extension": ".py",
   "mimetype": "text/x-python",
   "name": "python",
   "nbconvert_exporter": "python",
   "pygments_lexer": "ipython3",
   "version": "3.8.10"
  }
 },
 "nbformat": 4,
 "nbformat_minor": 5
}
